{
 "cells": [
  {
   "cell_type": "code",
   "execution_count": null,
   "id": "c93e3550-2106-4f87-b211-74bd6febd905",
   "metadata": {},
   "outputs": [],
   "source": [
    "#This cell imports numpy, astropy and datetime. "
   ]
  },
  {
   "cell_type": "code",
   "execution_count": 19,
   "id": "449f0532-9c81-4379-980d-c0bdc8a76110",
   "metadata": {},
   "outputs": [],
   "source": [
    "import numpy as np\n",
    "from astropy.table import Table\n",
    "from astropy.io import ascii\n",
    "import datetime"
   ]
  },
  {
   "cell_type": "code",
   "execution_count": null,
   "id": "8046ced3-5257-47a2-b313-d23c78f4ecf6",
   "metadata": {},
   "outputs": [],
   "source": [
    "#this cell defines the var current_time and defines the fuction sin(x) - which returns sin - and cos(x) - which returns cos."
   ]
  },
  {
   "cell_type": "code",
   "execution_count": 20,
   "id": "32ee8114-45af-4d12-9af2-687c833b5c28",
   "metadata": {},
   "outputs": [],
   "source": [
    "current_time = datetime.datetime.now()\n",
    "\n",
    "def sin(x):\n",
    "    s = np.sin(x)\n",
    "    return s\n",
    "def cos(x):\n",
    "    c = np.cos(x)\n",
    "    return c\n"
   ]
  },
  {
   "cell_type": "code",
   "execution_count": null,
   "id": "a46cc7ae-ac92-43dc-9f17-dd17ce5cf9da",
   "metadata": {},
   "outputs": [],
   "source": [
    "#this cell initializes lists v,y and z. It then iterates through list v and adds values into lists y and z using i.\n",
    "#Using Table library of astropy, a table is created for the lists. It is printed by creating a 'newtable.txt'. To prevent \n",
    "# dublicates, the time of creation is added to the txt file. The data is then printed. "
   ]
  },
  {
   "cell_type": "code",
   "execution_count": 21,
   "id": "2a8aa678-cccc-4888-a6e6-07013a912276",
   "metadata": {},
   "outputs": [
    {
     "name": "stdout",
     "output_type": "stream",
     "text": [
      "         x                    sin(x)               cos(x)      \n",
      "-------------------- ----------------------- ------------------\n",
      "                 0.0                     0.0                1.0\n",
      "0.006289474781961547    0.006289433316067751 0.9999802213186832\n",
      "0.012578949563923095    0.012578617838741058 0.9999208860571255\n",
      "0.018868424345884642     0.01886730478446709 0.9998219965624732\n",
      " 0.02515789912784619    0.025155245389375847 0.9996835567465339\n",
      " 0.03144737390980774      0.0314421909191206 0.9995055720856215\n",
      "0.037736848691769284     0.03772789267871718   0.99928804962034\n",
      "                 ...                     ...                ...\n",
      "   6.245448458487816     -0.0377278926787181   0.99928804962034\n",
      "   6.251737933269778   -0.031442190919121114 0.9995055720856215\n",
      "   6.258027408051739    -0.02515524538937684 0.9996835567465338\n",
      "   6.264316882833701   -0.018867304784467676 0.9998219965624732\n",
      "   6.270606357615662   -0.012578617838742121 0.9999208860571255\n",
      "   6.276895832397624   -0.006289433316068405 0.9999802213186832\n",
      "   6.283185307179586 -2.4492935982947064e-16                1.0\n",
      "Length = 1000 rows\n"
     ]
    }
   ],
   "source": [
    "v = np.linspace(0, (2*np.pi), 1000)\n",
    "y = []\n",
    "z = []\n",
    "\n",
    "for i in v:\n",
    "    y.append(sin(i))\n",
    "    z.append(cos(i))\n",
    "\n",
    "data = Table([v,y,z],names=['v','sin(x)','cos(x)'])\n",
    "ascii.write(data, (f'newtable.txt {current_time}') , format='commented_header')\n",
    "data_in = ascii.read('newtable.txt')\n",
    "print(data_in)"
   ]
  },
  {
   "cell_type": "code",
   "execution_count": null,
   "id": "43e3dc0c-914b-4127-b5dd-7e4b1185365e",
   "metadata": {},
   "outputs": [],
   "source": [
    "#this cell creates a for loop that prints out 10 values in lists v,y and z. "
   ]
  },
  {
   "cell_type": "code",
   "execution_count": 22,
   "id": "6bb2030a-488a-401e-82c7-4f462dc5fd29",
   "metadata": {},
   "outputs": [
    {
     "name": "stdout",
     "output_type": "stream",
     "text": [
      "0.0 0.0 1.0\n",
      "0.006289474781961547 0.006289433316067751 0.9999802213186832\n",
      "0.012578949563923095 0.012578617838741058 0.9999208860571255\n",
      "0.018868424345884642 0.01886730478446709 0.9998219965624732\n",
      "0.02515789912784619 0.025155245389375847 0.9996835567465339\n",
      "0.03144737390980774 0.0314421909191206 0.9995055720856215\n",
      "0.037736848691769284 0.03772789267871718 0.99928804962034\n",
      "0.04402632347373083 0.04401210202238166 0.9990309979553044\n",
      "0.05031579825569238 0.05029457036336618 0.9987344272588006\n",
      "0.056605273037653926 0.056575049183792345 0.9983983492623831\n"
     ]
    }
   ],
   "source": [
    "for i in range(0,10):\n",
    "    print(v[i],y[i],z[i])"
   ]
  }
 ],
 "metadata": {
  "kernelspec": {
   "display_name": "Python 3 (ipykernel)",
   "language": "python",
   "name": "python3"
  },
  "language_info": {
   "codemirror_mode": {
    "name": "ipython",
    "version": 3
   },
   "file_extension": ".py",
   "mimetype": "text/x-python",
   "name": "python",
   "nbconvert_exporter": "python",
   "pygments_lexer": "ipython3",
   "version": "3.10.0"
  }
 },
 "nbformat": 4,
 "nbformat_minor": 5
}
